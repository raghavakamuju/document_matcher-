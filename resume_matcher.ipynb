{
 "cells": [
  {
   "cell_type": "code",
   "execution_count": null,
   "metadata": {},
   "outputs": [],
   "source": [
    "from PIL import Image\n",
    "import cv2\n",
    "import pytesseract\n",
    "from sklearn.feature_extraction.text import CountVectorizer\n",
    "import numpy as np\n",
    "from sklearn.metrics.pairwise import cosine_similarity\n",
    "\n",
    "\n",
    "\n",
    "# recruiters resume\n",
    "img1 = cv2.imread('resume1.png')\n",
    "text1 = pytesseract.image_to_string(img1)\n",
    "# enginners resume\n",
    "img2 = cv2.imread('resume2.png')\n",
    "text2 = pytesseract.image_to_string(img2)\n",
    "#bag of words converting text to strings\n",
    "vectorizer = CountVectorizer()\n",
    "\n",
    "vectorized_text1 = vectorizer.fit_transform([text1]).toarray()\n",
    "vectorized_text2 = vectorizer.transform([text2]).toarray()\n",
    "\n",
    "#converting 1d to 2d array \n",
    "vector1 = vectorized_text1.reshape(1, -1)\n",
    "vector2 = vectorized_text2.reshape(1, -1)\n",
    "\n",
    "cosine_sim = cosine_similarity(vector1, vector2)\n",
    "\n",
    "print(\"Cosine Similarity:\", cosine_sim[0][0])\n",
    "\n",
    "if cosine_sim[0][0]>0.5:\n",
    "    print('eligible for interview')\n",
    "else:\n",
    "    print('uneligible')\n",
    "\n",
    "\n"
   ]
  },
  {
   "cell_type": "code",
   "execution_count": null,
   "metadata": {},
   "outputs": [],
   "source": []
  }
 ],
 "metadata": {
  "kernelspec": {
   "display_name": "Python 3",
   "language": "python",
   "name": "python3"
  },
  "language_info": {
   "codemirror_mode": {
    "name": "ipython",
    "version": 3
   },
   "file_extension": ".py",
   "mimetype": "text/x-python",
   "name": "python",
   "nbconvert_exporter": "python",
   "pygments_lexer": "ipython3",
   "version": "3.11.4"
  }
 },
 "nbformat": 4,
 "nbformat_minor": 2
}
